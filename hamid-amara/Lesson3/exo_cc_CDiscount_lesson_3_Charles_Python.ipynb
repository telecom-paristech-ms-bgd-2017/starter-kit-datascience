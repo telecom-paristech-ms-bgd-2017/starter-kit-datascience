{
 "cells": [
  {
   "cell_type": "code",
   "execution_count": null,
   "metadata": {
    "collapsed": false
   },
   "outputs": [],
   "source": []
  },
  {
   "cell_type": "code",
   "execution_count": null,
   "metadata": {
    "collapsed": true
   },
   "outputs": [],
   "source": [
    "\"\"\"\n",
    "Déterminer si ce sont les ordinateurs Dell ou Acer qui ont le plus de reduction sur CDiscount, le taux de rabais\n",
    "Ce code ne fonctionne que pour les ordinateurs portables\n",
    "\"\"\"\n",
    "\n",
    "import urllib.request as req\n",
    "from bs4 import BeautifulSoup\n",
    "\n",
    "\n",
    "def get_soup(produit, numero_page):\n",
    "    url = 'http://www.cdiscount.com/search/10/' + produit + '.html?TechnicalForm.SiteMapNodeId=0&TechnicalForm.DepartmentId=10&TechnicalForm.ProductId=&hdnPageType=Search&TechnicalForm.SellerId=&TechnicalForm.PageType=SEARCH_AJAX&TechnicalForm.LazyLoading.ProductSheets=False&NavigationForm.CurrentSelectedNavigationPath=f%2F1%2F0k&FacetForm.SelectedFacets.Index=0&FacetForm.SelectedFacets.Index=1&FacetForm.SelectedFacets.Index=2&FacetForm.SelectedFacets%5B2%5D=f%2F6%2F' + produit + '&FacetForm.SelectedFacets.Index=3&FacetForm.SelectedFacets.Index=4&FacetForm.SelectedFacets.Index=5&FacetForm.SelectedFacets.Index=6&FacetForm.SelectedFacets%5B6%5D=f%2F8%2Fordinateur+portable&FacetForm.SelectedFacets.Index=7&GeolocForm.ConfirmedGeolocAddress=&SortForm.SelectedSort=PERTINENCE&ProductListTechnicalForm.Keyword=' + produit +'&&page=' + numero_page + '_his_'\n",
    "    html = req.urlopen(url).read()\n",
    "    return BeautifulSoup(html, \"html.parser\")"
   ]
  },
  {
   "cell_type": "code",
   "execution_count": null,
   "metadata": {
    "collapsed": true
   },
   "outputs": [],
   "source": [
    "\n",
    "\n",
    "\n",
    "\n",
    "\n",
    "def get_prix(produit, nombre_pages):\n",
    "    liste_prix = []\n",
    "\n",
    "    for i in range(1, nombre_pages + 1):\n",
    "        soup = get_soup(produit, str(i))\n",
    "        nombre_ordis = len(soup.select(\"div.prdtPrSt\"))\n",
    "        index = 0\n",
    "\n",
    "        while (index < nombre_ordis):\n",
    "            nom_ordi = soup.select(\"div.prdtBTit\")[index].text\n",
    "            ancien_prix = soup.select(\"div.prdtPrSt\")[index].text.replace(\",\", \".\")\n",
    "            nouveau_prix = soup.select(\"span.price\")[index].text.replace(\"€\", \".\")\n",
    "            if not ancien_prix:\n",
    "                ancien_prix = nouveau_prix\n",
    "            ordi = {nom_ordi: {ancien_prix, nouveau_prix}}\n",
    "            liste_prix.append((nom_ordi, float(ancien_prix), float(nouveau_prix)))\n",
    "            index += 1\n",
    "    return liste_prix\n",
    "\n",
    "\n",
    "def calculate_reduction(liste_prix):\n",
    "\n",
    "    montant_reduction_moyen_tout_portable = 0\n",
    "    montant_reduction_moyen_portables_remises = 0\n",
    "\n",
    "    prix_total_sans_reduction = 0\n",
    "    prix_total_avec_reduction = 0\n",
    "    nombre_ordis_total = 0\n",
    "    nombre_ordis_remises = 0\n",
    "\n",
    "    for prix in liste_prix:\n",
    "        prix_total_sans_reduction += prix[1]\n",
    "        prix_total_avec_reduction += prix[2]\n",
    "        nombre_ordis_total += 1\n",
    "        if prix[1] > prix[2]:\n",
    "            nombre_ordis_remises += 1\n",
    "    montant_reduction_moyen_tout_portable = (prix_total_sans_reduction - prix_total_avec_reduction) / nombre_ordis_total\n",
    "    montant_reduction_moyen_portables_remises = (\n",
    "                                              prix_total_sans_reduction - prix_total_avec_reduction) / nombre_ordis_remises\n",
    "\n",
    "    return ({\"Montant réduction moyen tout portable\": montant_reduction_moyen_tout_portable,\n",
    "             \"Montant réduction moyen portables remises\": montant_reduction_moyen_portables_remises})\n",
    "\n",
    "if __name__ == '__main__':\n",
    "    liste_prix_acer = get_prix(\"acer\", 9)\n",
    "    print(\"Pour acer voici les infos sur les réductions faites : {0}\".format(calculate_reduction(liste_prix_acer)))\n",
    "\n",
    "    liste_prix_acer = get_prix(\"dell\", 20)\n",
    "    print(\"Pour dell voici les infos sur les réductions faites : {0}\".format(calculate_reduction(liste_prix_acer)))"
   ]
  }
 ],
 "metadata": {
  "kernelspec": {
   "display_name": "Python [conda root]",
   "language": "python",
   "name": "conda-root-py"
  },
  "language_info": {
   "codemirror_mode": {
    "name": "ipython",
    "version": 2
   },
   "file_extension": ".py",
   "mimetype": "text/x-python",
   "name": "python",
   "nbconvert_exporter": "python",
   "pygments_lexer": "ipython2",
   "version": "2.7.12"
  }
 },
 "nbformat": 4,
 "nbformat_minor": 1
}
